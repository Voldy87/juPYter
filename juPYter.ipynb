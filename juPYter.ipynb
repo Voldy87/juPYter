{
 "cells": [
  {
   "cell_type": "code",
   "execution_count": 1,
   "metadata": {
    "slideshow": {
     "slide_type": "skip"
    }
   },
   "outputs": [
    {
     "name": "stdout",
     "output_type": "stream",
     "text": [
      "Hello Python!\n"
     ]
    }
   ],
   "source": [
    "print('Hello Python!')"
   ]
  },
  {
   "cell_type": "markdown",
   "metadata": {
    "slideshow": {
     "slide_type": "slide"
    },
    "toc": true
   },
   "source": [
    "<h1>Table of Contents<span class=\"tocSkip\"></span></h1>\n",
    "<div class=\"toc\"><ul class=\"toc-item\"><li><span><a href=\"#Libraries-and-frameworks\" data-toc-modified-id=\"Libraries-and-frameworks-1\"><span class=\"toc-item-num\">1&nbsp;&nbsp;</span>Libraries and frameworks</a></span><ul class=\"toc-item\"><li><span><a href=\"#Internet\" data-toc-modified-id=\"Internet-1.1\"><span class=\"toc-item-num\">1.1&nbsp;&nbsp;</span>Internet</a></span><ul class=\"toc-item\"><li><span><a href=\"#Web-frameworks\" data-toc-modified-id=\"Web-frameworks-1.1.1\"><span class=\"toc-item-num\">1.1.1&nbsp;&nbsp;</span>Web frameworks</a></span><ul class=\"toc-item\"><li><span><a href=\"#django\" data-toc-modified-id=\"django-1.1.1.1\"><span class=\"toc-item-num\">1.1.1.1&nbsp;&nbsp;</span>django</a></span></li><li><span><a href=\"#flask\" data-toc-modified-id=\"flask-1.1.1.2\"><span class=\"toc-item-num\">1.1.1.2&nbsp;&nbsp;</span>flask</a></span></li></ul></li><li><span><a href=\"#Networking\" data-toc-modified-id=\"Networking-1.1.2\"><span class=\"toc-item-num\">1.1.2&nbsp;&nbsp;</span>Networking</a></span><ul class=\"toc-item\"><li><span><a href=\"#requests\" data-toc-modified-id=\"requests-1.1.2.1\"><span class=\"toc-item-num\">1.1.2.1&nbsp;&nbsp;</span>requests</a></span></li></ul></li></ul></li><li><span><a href=\"#Machine-learning\" data-toc-modified-id=\"Machine-learning-1.2\"><span class=\"toc-item-num\">1.2&nbsp;&nbsp;</span>Machine learning</a></span><ul class=\"toc-item\"><li><span><a href=\"#scikit-learn\" data-toc-modified-id=\"scikit-learn-1.2.1\"><span class=\"toc-item-num\">1.2.1&nbsp;&nbsp;</span>scikit-learn</a></span></li></ul></li><li><span><a href=\"#GUI\" data-toc-modified-id=\"GUI-1.3\"><span class=\"toc-item-num\">1.3&nbsp;&nbsp;</span>GUI</a></span><ul class=\"toc-item\"><li><span><a href=\"#Widget-toolkits\" data-toc-modified-id=\"Widget-toolkits-1.3.1\"><span class=\"toc-item-num\">1.3.1&nbsp;&nbsp;</span>Widget toolkits</a></span><ul class=\"toc-item\"><li><span><a href=\"#(Py)Qt\" data-toc-modified-id=\"(Py)Qt-1.3.1.1\"><span class=\"toc-item-num\">1.3.1.1&nbsp;&nbsp;</span>(Py)Qt</a></span></li><li><span><a href=\"#tk\" data-toc-modified-id=\"tk-1.3.1.2\"><span class=\"toc-item-num\">1.3.1.2&nbsp;&nbsp;</span>tk</a></span></li></ul></li></ul></li><li><span><a href=\"#Distributions-and-environment-management\" data-toc-modified-id=\"Distributions-and-environment-management-1.4\"><span class=\"toc-item-num\">1.4&nbsp;&nbsp;</span>Distributions and environment management</a></span><ul class=\"toc-item\"><li><span><a href=\"#Jupyter-Notebook\" data-toc-modified-id=\"Jupyter-Notebook-1.4.1\"><span class=\"toc-item-num\">1.4.1&nbsp;&nbsp;</span>Jupyter Notebook</a></span></li></ul></li></ul></li></ul></div>"
   ]
  },
  {
   "cell_type": "markdown",
   "metadata": {
    "slideshow": {
     "slide_type": "slide"
    }
   },
   "source": [
    "# Libraries and frameworks\n"
   ]
  },
  {
   "cell_type": "markdown",
   "metadata": {
    "slideshow": {
     "slide_type": "slide"
    }
   },
   "source": [
    "## Internet\n"
   ]
  },
  {
   "cell_type": "markdown",
   "metadata": {
    "slideshow": {
     "slide_type": "slide"
    }
   },
   "source": [
    "### Web frameworks\n"
   ]
  },
  {
   "cell_type": "markdown",
   "metadata": {
    "slideshow": {
     "slide_type": "slide"
    }
   },
   "source": [
    "#### django\n",
    "2·0 onwards\n",
    "ORM:\n",
    "*  When Case\n",
    "*  Migrations\n"
   ]
  },
  {
   "cell_type": "markdown",
   "metadata": {
    "slideshow": {
     "slide_type": "subslide"
    }
   },
   "source": [
    "Admin UI: "
   ]
  },
  {
   "cell_type": "markdown",
   "metadata": {
    "slideshow": {
     "slide_type": "slide"
    }
   },
   "source": [
    "#### flask\n"
   ]
  },
  {
   "cell_type": "markdown",
   "metadata": {
    "slideshow": {
     "slide_type": "slide"
    }
   },
   "source": [
    "### Networking\n"
   ]
  },
  {
   "cell_type": "markdown",
   "metadata": {
    "slideshow": {
     "slide_type": "slide"
    }
   },
   "source": [
    "#### requests\n"
   ]
  },
  {
   "cell_type": "code",
   "execution_count": null,
   "metadata": {},
   "outputs": [],
   "source": []
  },
  {
   "cell_type": "markdown",
   "metadata": {
    "slideshow": {
     "slide_type": "slide"
    }
   },
   "source": [
    "## Machine learning\n"
   ]
  },
  {
   "cell_type": "markdown",
   "metadata": {
    "slideshow": {
     "slide_type": "slide"
    }
   },
   "source": [
    "### scikit-learn\n"
   ]
  },
  {
   "cell_type": "markdown",
   "metadata": {
    "slideshow": {
     "slide_type": "slide"
    }
   },
   "source": [
    "##  GUI\n"
   ]
  },
  {
   "cell_type": "markdown",
   "metadata": {
    "slideshow": {
     "slide_type": "slide"
    }
   },
   "source": [
    "### Widget toolkits\n"
   ]
  },
  {
   "cell_type": "markdown",
   "metadata": {
    "slideshow": {
     "slide_type": "slide"
    }
   },
   "source": [
    "#### (Py)Qt\n"
   ]
  },
  {
   "cell_type": "markdown",
   "metadata": {
    "slideshow": {
     "slide_type": "slide"
    }
   },
   "source": [
    "#### tk"
   ]
  },
  {
   "cell_type": "markdown",
   "metadata": {
    "slideshow": {
     "slide_type": "skip"
    }
   },
   "source": [
    "Links (to exhaust or embed)\n",
    "https://en.wikipedia.org/wiki/Python_syntax_and_semantics \n",
    "https://perso.limsi.fr/pointal/_media/python:cours:mementopython3-english.pdf\n",
    "https://www.i-programmer.info/programming/other-languages/3748-getting-started-with-python.html\n",
    "https://stackoverflow.com/questions/14361256/whats-the-biggest-difference-between-dir-and-dict-in-python \n",
    "https://pythonprogramming.net/tuples-strings-loops-learn-python-3-tutorials/ \n",
    "https://www.freecodecamp.org/news/learn-python-basics-in-depth-video-course/ \n",
    "https://www.freecodecamp.org/news/learn-python-from-harvards-cs50/ "
   ]
  },
  {
   "cell_type": "markdown",
   "metadata": {
    "slideshow": {
     "slide_type": "slide"
    }
   },
   "source": [
    "## Distributions and environment management"
   ]
  },
  {
   "cell_type": "markdown",
   "metadata": {
    "slideshow": {
     "slide_type": "slide"
    }
   },
   "source": [
    "### Jupyter Notebook\n",
    "Extensions"
   ]
  },
  {
   "cell_type": "markdown",
   "metadata": {
    "slideshow": {
     "slide_type": "notes"
    }
   },
   "source": [
    "Thanks to:\n",
    "*  python\n",
    "*  anaconda\n",
    "*  jupyter notebook\n",
    "*  github pages\n",
    "*  reveal.js\n",
    "*  nbextensions (table of contents, )"
   ]
  }
 ],
 "metadata": {
  "celltoolbar": "Slideshow",
  "kernelspec": {
   "display_name": "Python 3",
   "language": "python",
   "name": "python3"
  },
  "language_info": {
   "codemirror_mode": {
    "name": "ipython",
    "version": 3
   },
   "file_extension": ".py",
   "mimetype": "text/x-python",
   "name": "python",
   "nbconvert_exporter": "python",
   "pygments_lexer": "ipython3",
   "version": "3.7.6"
  },
  "toc": {
   "base_numbering": 1,
   "nav_menu": {},
   "number_sections": true,
   "sideBar": true,
   "skip_h1_title": false,
   "title_cell": "Table of Contents",
   "title_sidebar": "Contents",
   "toc_cell": true,
   "toc_position": {},
   "toc_section_display": true,
   "toc_window_display": false
  }
 },
 "nbformat": 4,
 "nbformat_minor": 2
}
